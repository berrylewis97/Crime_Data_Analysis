{
 "cells": [
  {
   "cell_type": "code",
   "execution_count": 96,
   "id": "664399d2",
   "metadata": {},
   "outputs": [],
   "source": [
    "import pandas as pd \n",
    "import numpy as np \n",
    "import matplotlib.pyplot as plt\n",
    "import seaborn as sns"
   ]
  },
  {
   "cell_type": "code",
   "execution_count": 97,
   "id": "a46e298e",
   "metadata": {},
   "outputs": [],
   "source": [
    "#importing data\n",
    "raw_data = pd.read_csv(r\"C:\\Users\\USER\\Crime_Data_from_2020_to_Present.csv\")\n",
    "\n",
    "data = raw_data.copy()\n",
    "\n",
    "#Renaming all columns(on the copy)\n",
    "data.columns = ['File_Number','Report_Date','Occ_Date','Occ_Time','Area_Code','Area_Name',\n",
    "                'Sub_Area_Code','Crime_degree','Crime_Code','Crime_Desc','Mocodes','Vict_Age',\n",
    "                'Vict_Sex','Vict Descent','Place_code','Place_Desc','Weapon_code','Weapon_Desc',\n",
    "                'Status','Status_Desc','crime_1','crime_2','crime_3','crime_4','Location',\n",
    "                'Cross_Street','LAT','LON'\n",
    "               ]\n",
    "\n",
    "#settings\n",
    "pd.set_option(\"display.max_columns\",30)"
   ]
  },
  {
   "cell_type": "markdown",
   "id": "e9e9f838",
   "metadata": {},
   "source": [
    "### Column Dtypes Fix: "
   ]
  },
  {
   "cell_type": "code",
   "execution_count": 98,
   "id": "4a9fb898",
   "metadata": {},
   "outputs": [],
   "source": [
    "# Fixing date columns dtypes\n",
    "data['Report_Date'] = pd.to_datetime(data[\"Report_Date\"])\n",
    "data['Occ_Date'] = pd.to_datetime(data[\"Occ_Date\"])"
   ]
  },
  {
   "cell_type": "code",
   "execution_count": 99,
   "id": "44ce5400",
   "metadata": {},
   "outputs": [],
   "source": [
    "# Fixing Time column \n",
    "data['Occ_Time'] = data['Occ_Time'].astype('str').str.zfill(4)\n",
    "data['Occ_Time'] = data['Occ_Time'].str[:2] +\":\"+ data['Occ_Time'].str[2:]\n",
    "data['Occ_Time'] = pd.to_datetime(data[\"Occ_Time\"],format = \"%H:%M\").dt.time\n",
    "#adding an hour column\n",
    "data[\"Occ_Hour\"] = data[\"Occ_Time\"].astype('str').str[:2]"
   ]
  },
  {
   "cell_type": "code",
   "execution_count": 100,
   "id": "accb9bf8",
   "metadata": {},
   "outputs": [],
   "source": [
    "#Converting catagorical columns into category dtype\n",
    "\n",
    "# before 164.7+ MB\n",
    "\n",
    "for column in data.columns:\n",
    "    if data[column].nunique() <25:\n",
    "        data[column] = data[column].astype('category')\n",
    "    else:\n",
    "        data[column] = data[column]\n",
    "        \n",
    "# after 123.5+ MB"
   ]
  },
  {
   "cell_type": "code",
   "execution_count": 111,
   "id": "50cdd0b1",
   "metadata": {},
   "outputs": [],
   "source": [
    "#Makind File_Number More readable\n",
    "data['File_Number'] = [i.zfill(6) for i in np.arange(0,770787).astype('str')]"
   ]
  },
  {
   "cell_type": "markdown",
   "id": "b8c49291",
   "metadata": {},
   "source": [
    "# Fact:"
   ]
  },
  {
   "cell_type": "code",
   "execution_count": 230,
   "id": "b0cf6326",
   "metadata": {},
   "outputs": [],
   "source": [
    "#Orgenazing The Data into Tables\n",
    "Fact = data[['File_Number','Report_Date','Occ_Date','Occ_Time','Area_Code','Sub_Area_Code','Crime_degree','Crime_Code','Status','LAT','LON']]"
   ]
  },
  {
   "cell_type": "markdown",
   "id": "98ad4849",
   "metadata": {},
   "source": [
    "# Dim:"
   ]
  },
  {
   "cell_type": "code",
   "execution_count": 231,
   "id": "b5d5d0cc",
   "metadata": {},
   "outputs": [],
   "source": [
    "#Orgenazing The Data into Tables\n",
    "Dim_Area = data[['Area_Code','Area_Name']].sort_values(by = 'Area_Code').reset_index(drop = True)\n",
    "\n",
    "Dim_Sub_Area = data[['Sub_Area_Code','Area_Name']].sort_values(by = 'Sub_Area_Code').reset_index(drop = True)\n",
    "\n",
    "Dim_Crime = data[['Crime_Code','Crime_Desc']].drop_duplicates().sort_values(by = 'Crime_Code').reset_index(drop = True)\n",
    "\n",
    "Dim_Sub_Crime = data[['File_Number','Crime_Code','crime_2','crime_3','crime_4']]\n",
    "\n",
    "Dim_Status = data[['Status','Status_Desc']].drop_duplicates().sort_values(by = 'Status').reset_index(drop = True)\n",
    "\n",
    "Dim_Weapon = data[['File_Number','Weapon_code','Weapon_Desc']].dropna(how = 'any').reset_index(drop = True)\n",
    "\n",
    "#information about the Place (Place Description)\n",
    "Dim_Place = data[['Place_code','Place_Desc']]\n",
    "Dim_Place = Dim_Place.dropna(how = 'any').drop_duplicates()\n",
    "Dim_Place['Place_code'] = Dim_Place['Place_code'].astype('int16')\n",
    "Dim_Place = Dim_Place.sort_values(by = 'Place_code').reset_index(drop = True)\n",
    "\n",
    "#information about the victim (age, sex, Descent)\n",
    "Dim_Victim = data[['File_Number','Vict_Age','Vict_Sex','Vict Descent']]\n",
    "\n",
    "#information about the geographical place \n",
    "Dim_Geographic = data[['Location','Area_Name']].drop_duplicates().sort_values(by = 'Area_Name').reset_index(drop = True)\n",
    "\n",
    "Dim_Coordinates = data[['File_Number','LAT','LON']]\n",
    "\n",
    "Dim_LON = pd.DataFrame({\"LON_ID\":np.arange(10,len(Dim_Coordinates['LON'].unique())+10),\"LON\":Dim_Coordinates['LON'].unique()})\n",
    "Dim_LAT = pd.DataFrame({\"LAT_ID\":np.arange(10,len(Dim_Coordinates['LAT'].unique())+10),\"LAT\":Dim_Coordinates['LAT'].unique()})\n",
    "\n",
    "#Replacing LAT and LON Values with the New codes\n",
    "Fact = Fact.merge(Dim_LON,on = 'LON').merge(Dim_LAT,on = 'LAT').sort_values(by = 'File_Number').reset_index(drop = True).drop(['LAT','LON'],axis = 1)"
   ]
  },
  {
   "cell_type": "code",
   "execution_count": 238,
   "id": "34d0bb6a",
   "metadata": {},
   "outputs": [
    {
     "data": {
      "text/html": [
       "<div>\n",
       "<style scoped>\n",
       "    .dataframe tbody tr th:only-of-type {\n",
       "        vertical-align: middle;\n",
       "    }\n",
       "\n",
       "    .dataframe tbody tr th {\n",
       "        vertical-align: top;\n",
       "    }\n",
       "\n",
       "    .dataframe thead th {\n",
       "        text-align: right;\n",
       "    }\n",
       "</style>\n",
       "<table border=\"1\" class=\"dataframe\">\n",
       "  <thead>\n",
       "    <tr style=\"text-align: right;\">\n",
       "      <th></th>\n",
       "      <th>Location</th>\n",
       "      <th>Area_Name</th>\n",
       "    </tr>\n",
       "  </thead>\n",
       "  <tbody>\n",
       "    <tr>\n",
       "      <th>0</th>\n",
       "      <td>7800 S  DENKER                       AV</td>\n",
       "      <td>77th Street</td>\n",
       "    </tr>\n",
       "    <tr>\n",
       "      <th>1</th>\n",
       "      <td>6300 S  HOOVER                       ST</td>\n",
       "      <td>77th Street</td>\n",
       "    </tr>\n",
       "    <tr>\n",
       "      <th>2</th>\n",
       "      <td>VERDUN                       AV</td>\n",
       "      <td>77th Street</td>\n",
       "    </tr>\n",
       "    <tr>\n",
       "      <th>3</th>\n",
       "      <td>1900 W  85TH                         ST</td>\n",
       "      <td>77th Street</td>\n",
       "    </tr>\n",
       "    <tr>\n",
       "      <th>4</th>\n",
       "      <td>1000 W  45TH                         ST</td>\n",
       "      <td>77th Street</td>\n",
       "    </tr>\n",
       "    <tr>\n",
       "      <th>...</th>\n",
       "      <td>...</td>\n",
       "      <td>...</td>\n",
       "    </tr>\n",
       "    <tr>\n",
       "      <th>67021</th>\n",
       "      <td>4600    ST CHARLES                   PL</td>\n",
       "      <td>Wilshire</td>\n",
       "    </tr>\n",
       "    <tr>\n",
       "      <th>67022</th>\n",
       "      <td>1600    ALVIRA                       ST</td>\n",
       "      <td>Wilshire</td>\n",
       "    </tr>\n",
       "    <tr>\n",
       "      <th>67023</th>\n",
       "      <td>7300    MELROSE                      AV</td>\n",
       "      <td>Wilshire</td>\n",
       "    </tr>\n",
       "    <tr>\n",
       "      <th>67024</th>\n",
       "      <td>4800 W  5TH                          ST</td>\n",
       "      <td>Wilshire</td>\n",
       "    </tr>\n",
       "    <tr>\n",
       "      <th>67025</th>\n",
       "      <td>5500 W  8TH                          ST</td>\n",
       "      <td>Wilshire</td>\n",
       "    </tr>\n",
       "  </tbody>\n",
       "</table>\n",
       "<p>67026 rows × 2 columns</p>\n",
       "</div>"
      ],
      "text/plain": [
       "                                      Location    Area_Name\n",
       "0      7800 S  DENKER                       AV  77th Street\n",
       "1      6300 S  HOOVER                       ST  77th Street\n",
       "2              VERDUN                       AV  77th Street\n",
       "3      1900 W  85TH                         ST  77th Street\n",
       "4      1000 W  45TH                         ST  77th Street\n",
       "...                                        ...          ...\n",
       "67021  4600    ST CHARLES                   PL     Wilshire\n",
       "67022  1600    ALVIRA                       ST     Wilshire\n",
       "67023  7300    MELROSE                      AV     Wilshire\n",
       "67024  4800 W  5TH                          ST     Wilshire\n",
       "67025  5500 W  8TH                          ST     Wilshire\n",
       "\n",
       "[67026 rows x 2 columns]"
      ]
     },
     "execution_count": 238,
     "metadata": {},
     "output_type": "execute_result"
    }
   ],
   "source": [
    "Dim_Geographic"
   ]
  },
  {
   "cell_type": "code",
   "execution_count": null,
   "id": "ba1f8f3c",
   "metadata": {},
   "outputs": [],
   "source": []
  },
  {
   "cell_type": "code",
   "execution_count": null,
   "id": "acd63696",
   "metadata": {},
   "outputs": [],
   "source": []
  },
  {
   "cell_type": "code",
   "execution_count": null,
   "id": "054db355",
   "metadata": {},
   "outputs": [],
   "source": []
  }
 ],
 "metadata": {
  "kernelspec": {
   "display_name": "Python 3 (ipykernel)",
   "language": "python",
   "name": "python3"
  },
  "language_info": {
   "codemirror_mode": {
    "name": "ipython",
    "version": 3
   },
   "file_extension": ".py",
   "mimetype": "text/x-python",
   "name": "python",
   "nbconvert_exporter": "python",
   "pygments_lexer": "ipython3",
   "version": "3.10.9"
  }
 },
 "nbformat": 4,
 "nbformat_minor": 5
}
