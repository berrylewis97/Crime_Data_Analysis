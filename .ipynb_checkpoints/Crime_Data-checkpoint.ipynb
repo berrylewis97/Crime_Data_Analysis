{
 "cells": [
  {
   "cell_type": "code",
   "execution_count": 2,
   "id": "664399d2",
   "metadata": {},
   "outputs": [],
   "source": [
    "import pandas as pd \n",
    "import numpy as np \n",
    "import matplotlib.pyplot as plt\n",
    "import seaborn as sns"
   ]
  },
  {
   "cell_type": "code",
   "execution_count": 11,
   "id": "a46e298e",
   "metadata": {},
   "outputs": [],
   "source": [
    "#importing data\n",
    "raw_data = pd.read_csv(r\"C:\\Users\\USER\\Crime_Data_from_2020_to_Present.csv\")\n",
    "\n",
    "data = raw_data.copy()\n",
    "\n",
    "#Renaming all columns(on the copy)\n",
    "data.columns = ['File_Number','Report_Date','Occ_Date','Occ_Time','Area_Code','Area_Name',\n",
    "                'Sub_Area_Code','Crime_degree','Crime_Code','Crime_Desc','Mocodes','Vict_Age',\n",
    "                'Vict_Sex','Vict Descent','Place_code','Place_Desc','Weapon_code','Weapon_Desc',\n",
    "                'Status','Status_Desc','crime_1','crime_2','crime_3','crime_4','Location',\n",
    "                'Cross_Street','LAT','LON'\n",
    "               ]"
   ]
  },
  {
   "cell_type": "code",
   "execution_count": 16,
   "id": "accb9bf8",
   "metadata": {},
   "outputs": [],
   "source": [
    "data.head(20).to_clipboard()"
   ]
  }
 ],
 "metadata": {
  "kernelspec": {
   "display_name": "Python 3 (ipykernel)",
   "language": "python",
   "name": "python3"
  },
  "language_info": {
   "codemirror_mode": {
    "name": "ipython",
    "version": 3
   },
   "file_extension": ".py",
   "mimetype": "text/x-python",
   "name": "python",
   "nbconvert_exporter": "python",
   "pygments_lexer": "ipython3",
   "version": "3.10.9"
  }
 },
 "nbformat": 4,
 "nbformat_minor": 5
}
