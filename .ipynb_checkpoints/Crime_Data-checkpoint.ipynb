{
 "cells": [
  {
   "cell_type": "code",
   "execution_count": 96,
   "id": "664399d2",
   "metadata": {},
   "outputs": [],
   "source": [
    "import pandas as pd \n",
    "import numpy as np \n",
    "import matplotlib.pyplot as plt\n",
    "import seaborn as sns"
   ]
  },
  {
   "cell_type": "code",
   "execution_count": 97,
   "id": "a46e298e",
   "metadata": {},
   "outputs": [],
   "source": [
    "#importing data\n",
    "raw_data = pd.read_csv(r\"C:\\Users\\USER\\Crime_Data_from_2020_to_Present.csv\")\n",
    "\n",
    "data = raw_data.copy()\n",
    "\n",
    "#Renaming all columns(on the copy)\n",
    "data.columns = ['File_Number','Report_Date','Occ_Date','Occ_Time','Area_Code','Area_Name',\n",
    "                'Sub_Area_Code','Crime_degree','Crime_Code','Crime_Desc','Mocodes','Vict_Age',\n",
    "                'Vict_Sex','Vict Descent','Place_code','Place_Desc','Weapon_code','Weapon_Desc',\n",
    "                'Status','Status_Desc','crime_1','crime_2','crime_3','crime_4','Location',\n",
    "                'Cross_Street','LAT','LON'\n",
    "               ]\n",
    "\n",
    "#settings\n",
    "pd.set_option(\"display.max_columns\",30)"
   ]
  },
  {
   "cell_type": "markdown",
   "id": "f0479fd8",
   "metadata": {},
   "source": [
    "### Column Dtypes Fix: "
   ]
  },
  {
   "cell_type": "code",
   "execution_count": 98,
   "id": "13e8874a",
   "metadata": {},
   "outputs": [],
   "source": [
    "# Fixing date columns dtypes\n",
    "data['Report_Date'] = pd.to_datetime(data[\"Report_Date\"])\n",
    "data['Occ_Date'] = pd.to_datetime(data[\"Occ_Date\"])"
   ]
  },
  {
   "cell_type": "code",
   "execution_count": 99,
   "id": "15cea73f",
   "metadata": {},
   "outputs": [],
   "source": [
    "# Fixing Time column \n",
    "data['Occ_Time'] = data['Occ_Time'].astype('str').str.zfill(4)\n",
    "data['Occ_Time'] = data['Occ_Time'].str[:2] +\":\"+ data['Occ_Time'].str[2:]\n",
    "data['Occ_Time'] = pd.to_datetime(data[\"Occ_Time\"],format = \"%H:%M\").dt.time\n",
    "#adding an hour column\n",
    "data[\"Occ_Hour\"] = data[\"Occ_Time\"].astype('str').str[:2]"
   ]
  },
  {
   "cell_type": "code",
   "execution_count": 100,
   "id": "accb9bf8",
   "metadata": {},
   "outputs": [],
   "source": [
    "#Converting catagorical columns into category dtype\n",
    "\n",
    "# before 164.7+ MB\n",
    "\n",
    "for column in data.columns:\n",
    "    if data[column].nunique() <25:\n",
    "        data[column] = data[column].astype('category')\n",
    "    else:\n",
    "        data[column] = data[column]\n",
    "        \n",
    "# after 123.5+ MB"
   ]
  },
  {
   "cell_type": "code",
   "execution_count": 250,
   "id": "50cdd0b1",
   "metadata": {},
   "outputs": [],
   "source": [
    "#Makind File_Number More readable\n",
    "data = data.sort_values(by = 'Report_Date').reset_index(drop = True)\n",
    "data['File_Number'] = [i.zfill(6) for i in np.arange(0,770787).astype('str')]"
   ]
  },
  {
   "cell_type": "markdown",
   "id": "24272da4",
   "metadata": {},
   "source": [
    "# Fact:"
   ]
  },
  {
   "cell_type": "code",
   "execution_count": 248,
   "id": "a3867f5c",
   "metadata": {},
   "outputs": [],
   "source": [
    "#Orgenazing The Data into Tables\n",
    "Fact = data[['File_Number','Report_Date','Occ_Date','Occ_Time','Area_Code','Sub_Area_Code','Crime_degree','Crime_Code','Status','LAT','LON']]"
   ]
  },
  {
   "cell_type": "markdown",
   "id": "9e446831",
   "metadata": {},
   "source": [
    "# Dim:"
   ]
  },
  {
   "cell_type": "code",
   "execution_count": 252,
   "id": "3eda3ad3",
   "metadata": {},
   "outputs": [],
   "source": [
    "#Orgenazing The Data into Tables\n",
    "Dim_Area = data[['Area_Code','Area_Name']].sort_values(by = 'Area_Code').reset_index(drop = True)\n",
    "\n",
    "Dim_Sub_Area = data[['Sub_Area_Code','Area_Name']].sort_values(by = 'Sub_Area_Code').reset_index(drop = True)\n",
    "\n",
    "Dim_Crime = data[['Crime_Code','Crime_Desc']].drop_duplicates().sort_values(by = 'Crime_Code').reset_index(drop = True)\n",
    "\n",
    "Dim_Sub_Crime = data[['File_Number','Crime_Code','crime_2','crime_3','crime_4']]\n",
    "\n",
    "Dim_Status = data[['Status','Status_Desc']].drop_duplicates().sort_values(by = 'Status').reset_index(drop = True)\n",
    "\n",
    "Dim_Weapon = data[['File_Number','Weapon_code','Weapon_Desc']].dropna(how = 'any').reset_index(drop = True)\n",
    "\n",
    "#information about the Place (Place Description)\n",
    "Dim_Place = data[['Place_code','Place_Desc']]\n",
    "Dim_Place = Dim_Place.dropna(how = 'any').drop_duplicates()\n",
    "Dim_Place['Place_code'] = Dim_Place['Place_code'].astype('int16')\n",
    "Dim_Place = Dim_Place.sort_values(by = 'Place_code').reset_index(drop = True)\n",
    "\n",
    "#information about the victim (age, sex, Descent)\n",
    "Dim_Victim = data[['File_Number','Vict_Age','Vict_Sex','Vict Descent']]\n",
    "\n",
    "#information about the geographical place \n",
    "Dim_Geographic = data[['Location','Area_Name']].drop_duplicates().sort_values(by = 'Area_Name').reset_index(drop = True)\n",
    "\n",
    "Dim_Coordinates = data[['File_Number','LAT','LON']]\n",
    "\n",
    "Dim_LON = pd.DataFrame({\"LON_ID\":np.arange(10,len(Dim_Coordinates['LON'].unique())+10),\"LON\":Dim_Coordinates['LON'].unique()})\n",
    "Dim_LAT = pd.DataFrame({\"LAT_ID\":np.arange(10,len(Dim_Coordinates['LAT'].unique())+10),\"LAT\":Dim_Coordinates['LAT'].unique()})\n",
    "\n",
    "#Replacing LAT and LON Values with the New codes\n",
    "Fact = Fact.merge(Dim_LON,on = 'LON').merge(Dim_LAT,on = 'LAT').sort_values(by = 'File_Number').reset_index(drop = True).drop(['LAT','LON'],axis = 1)"
   ]
  },
  {
   "cell_type": "code",
   "execution_count": 254,
   "id": "f32651f0",
   "metadata": {},
   "outputs": [],
   "source": [
    "#Creating a date table\n",
    "Dim_Date = pd.DataFrame({\"Date\":pd.date_range(start=Fact['Report_Date'].min(),end=Fact['Report_Date'].max())})\n",
    "\n",
    "Dim_Date['year'] = Dim_Date['Date'].dt.year\n",
    "Dim_Date['month'] = Dim_Date['Date'].dt.month\n",
    "Dim_Date['Day'] = Dim_Date['Date'].dt.day\n",
    "\n",
    " \n",
    "Dim_Date['Week_Day'] =Dim_Date['Date'].dt.dayofweek + 2\n",
    "#sunday = 1, Saturday = 7\n",
    "Dim_Date['Week_Day'] = np.where(Dim_Date['Week_Day'] == 8 ,1,Dim_Date['Week_Day'])\n",
    "\n",
    "Dim_Date['Day_Name'] = Dim_Date['Date'].dt.day_name()\n"
   ]
  },
  {
   "cell_type": "code",
   "execution_count": 320,
   "id": "e82adb3b",
   "metadata": {},
   "outputs": [
    {
     "data": {
      "image/png": "[encoded data removed]",
      "text/plain": [
       "<Figure size 1000x500 with 1 Axes>"
      ]
     },
     "metadata": {},
     "output_type": "display_data"
    }
   ],
   "source": [
    "# מה היום והשעה עם אחוז הפשעים הגבוהה ביותר\n",
    "fact_dayname = Fact[['File_Number','Report_Date','Occ_Time']].merge(Dim_Date[['Date','Day_Name','Week_Day']],how = 'left', left_on='Report_Date',right_on= 'Date')\n",
    "crime_for_day = fact_dayname.groupby(['Day_Name','Week_Day'])['File_Number'].count().reset_index()\n",
    "crime_for_day = crime_for_day.sort_values(by = 'Week_Day')\n",
    "X = crime_for_day['Day_Name']\n",
    "Y = crime_for_day['File_Number']\n",
    "figure = plt.figure(figsize = (10,5))\n",
    "plt.ylim(80000,123000)\n",
    "plt.bar(X,Y,color = ['r','b','g','pink','gray','black','yellow'],label = [day[:3] for day in crime_for_day['Day_Name'].tolist()],width=0.3)\n",
    "plt.legend()\n",
    "plt.show()\n"
   ]
  },
  {
   "cell_type": "code",
   "execution_count": 309,
   "id": "42ca9ed4",
   "metadata": {},
   "outputs": [
    {
     "data": {
      "text/html": [
       "<div>\n",
       "<style scoped>\n",
       "    .dataframe tbody tr th:only-of-type {\n",
       "        vertical-align: middle;\n",
       "    }\n",
       "\n",
       "    .dataframe tbody tr th {\n",
       "        vertical-align: top;\n",
       "    }\n",
       "\n",
       "    .dataframe thead th {\n",
       "        text-align: right;\n",
       "    }\n",
       "</style>\n",
       "<table border=\"1\" class=\"dataframe\">\n",
       "  <thead>\n",
       "    <tr style=\"text-align: right;\">\n",
       "      <th></th>\n",
       "      <th>Day_Name</th>\n",
       "      <th>Week_Day</th>\n",
       "      <th>File_Number</th>\n",
       "    </tr>\n",
       "  </thead>\n",
       "  <tbody>\n",
       "    <tr>\n",
       "      <th>0</th>\n",
       "      <td>Friday</td>\n",
       "      <td>6</td>\n",
       "      <td>110429</td>\n",
       "    </tr>\n",
       "    <tr>\n",
       "      <th>1</th>\n",
       "      <td>Monday</td>\n",
       "      <td>2</td>\n",
       "      <td>121387</td>\n",
       "    </tr>\n",
       "    <tr>\n",
       "      <th>2</th>\n",
       "      <td>Saturday</td>\n",
       "      <td>7</td>\n",
       "      <td>99238</td>\n",
       "    </tr>\n",
       "    <tr>\n",
       "      <th>3</th>\n",
       "      <td>Sunday</td>\n",
       "      <td>1</td>\n",
       "      <td>97807</td>\n",
       "    </tr>\n",
       "    <tr>\n",
       "      <th>4</th>\n",
       "      <td>Thursday</td>\n",
       "      <td>5</td>\n",
       "      <td>112178</td>\n",
       "    </tr>\n",
       "    <tr>\n",
       "      <th>5</th>\n",
       "      <td>Tuesday</td>\n",
       "      <td>3</td>\n",
       "      <td>115732</td>\n",
       "    </tr>\n",
       "    <tr>\n",
       "      <th>6</th>\n",
       "      <td>Wednesday</td>\n",
       "      <td>4</td>\n",
       "      <td>114016</td>\n",
       "    </tr>\n",
       "  </tbody>\n",
       "</table>\n",
       "</div>"
      ],
      "text/plain": [
       "    Day_Name  Week_Day  File_Number\n",
       "0     Friday         6       110429\n",
       "1     Monday         2       121387\n",
       "2   Saturday         7        99238\n",
       "3     Sunday         1        97807\n",
       "4   Thursday         5       112178\n",
       "5    Tuesday         3       115732\n",
       "6  Wednesday         4       114016"
      ]
     },
     "execution_count": 309,
     "metadata": {},
     "output_type": "execute_result"
    }
   ],
   "source": []
  },
  {
   "cell_type": "code",
   "execution_count": null,
   "id": "8c4cb619",
   "metadata": {},
   "outputs": [],
   "source": []
  },
  {
   "cell_type": "code",
   "execution_count": null,
   "id": "4f7d3697",
   "metadata": {},
   "outputs": [],
   "source": []
  }
 ],
 "metadata": {
  "kernelspec": {
   "display_name": "Python 3 (ipykernel)",
   "language": "python",
   "name": "python3"
  },
  "language_info": {
   "codemirror_mode": {
    "name": "ipython",
    "version": 3
   },
   "file_extension": ".py",
   "mimetype": "text/x-python",
   "name": "python",
   "nbconvert_exporter": "python",
   "pygments_lexer": "ipython3",
   "version": "3.10.9"
  }
 },
 "nbformat": 4,
 "nbformat_minor": 5
}
